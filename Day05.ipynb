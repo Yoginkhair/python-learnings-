{
  "nbformat": 4,
  "nbformat_minor": 0,
  "metadata": {
    "colab": {
      "provenance": [],
      "authorship_tag": "ABX9TyPnmsBx2tULszX6w+hS6u1O",
      "include_colab_link": true
    },
    "kernelspec": {
      "name": "python3",
      "display_name": "Python 3"
    },
    "language_info": {
      "name": "python"
    }
  },
  "cells": [
    {
      "cell_type": "markdown",
      "metadata": {
        "id": "view-in-github",
        "colab_type": "text"
      },
      "source": [
        "<a href=\"https://colab.research.google.com/github/Yoginkhair/python-learnings-/blob/main/Day05.ipynb\" target=\"_parent\"><img src=\"https://colab.research.google.com/assets/colab-badge.svg\" alt=\"Open In Colab\"/></a>"
      ]
    },
    {
      "cell_type": "code",
      "execution_count": 1,
      "metadata": {
        "id": "HVeZ40ulIsdk"
      },
      "outputs": [],
      "source": [
        "# Creating a list\n",
        "# List a place where you can store Information\n",
        "items = []"
      ]
    },
    {
      "cell_type": "code",
      "source": [
        "items = [\"Speaker\", \"Mic\", \"Mobile\", \"Laptop\"]\n",
        "# Accessing Elements\n",
        "items [0]\n",
        "print(items[0])\n",
        "\n",
        "# Negative Indexing\n",
        "items[-1]\n",
        "print(items[-1])\n",
        "\n",
        "# Slicing a list\n",
        "items[0:2]\n",
        "print(items[0:2])\n",
        "\n",
        "# Modifying Elements in a list\n",
        "print(items[3]) # before\n",
        "items[3] = \"Headphone\"\n",
        "print(items[3])\n",
        "\n",
        "# Adding Elements to a list\n",
        "items.append(\"Earphones\")\n",
        "print(items)\n",
        "\n",
        "# Remove Elements from a list\n",
        "items.remove(items[0]) # can name the element also works\n",
        "print(items)\n",
        "\n",
        "# Delete Elements\n",
        "del items[0]\n",
        "print(items)\n",
        "\n",
        "# Clear list\n",
        "items.clear()\n",
        "print(items)\n",
        "\n",
        "# Delete list\n",
        "del items\n",
        "# print(items) this throws error coz List is now deleted\n",
        "\n",
        "# Checking for existance\n",
        "items = [\"Speaker\", \"Mic\", \"Mobile\", \"Laptop\"]\n",
        "print(\"Speaker\" in items)\n",
        "print(\"Headphone\" in items)\n",
        "\n",
        "# Length of a list\n",
        "len(items)\n",
        "\n",
        "# List comprehension\n",
        "score = [70, 80, 90, 95]\n",
        "for i in score:\n",
        "  print(i/2)\n",
        "\n",
        "[i/2 for i in score]"
      ],
      "metadata": {
        "colab": {
          "base_uri": "https://localhost:8080/"
        },
        "id": "30i2QYFc4exu",
        "outputId": "81ba0156-09db-415c-85ec-6f41c8c4fd23"
      },
      "execution_count": 21,
      "outputs": [
        {
          "output_type": "stream",
          "name": "stdout",
          "text": [
            "Speaker\n",
            "Laptop\n",
            "['Speaker', 'Mic']\n",
            "Laptop\n",
            "Headphone\n",
            "['Speaker', 'Mic', 'Mobile', 'Headphone', 'Earphones']\n",
            "['Mic', 'Mobile', 'Headphone', 'Earphones']\n",
            "['Mobile', 'Headphone', 'Earphones']\n",
            "[]\n",
            "True\n",
            "False\n",
            "70\n",
            "80\n",
            "90\n",
            "95\n"
          ]
        },
        {
          "output_type": "execute_result",
          "data": {
            "text/plain": [
              "[35.0, 40.0, 45.0, 47.5]"
            ]
          },
          "metadata": {},
          "execution_count": 21
        }
      ]
    },
    {
      "cell_type": "code",
      "source": [
        "# Q1. Print numbers from 1 to 10: Write a Python program to print numbers from 1 to 10 using a for loop.\n",
        "i = 1\n",
        "for j in range (10):\n",
        "  print(i)\n",
        "  i += 1"
      ],
      "metadata": {
        "colab": {
          "base_uri": "https://localhost:8080/"
        },
        "id": "a9Tfv4ZcBwxt",
        "outputId": "64ab2a37-eb93-4510-9079-34db8afa2d52"
      },
      "execution_count": 32,
      "outputs": [
        {
          "output_type": "stream",
          "name": "stdout",
          "text": [
            "1\n",
            "2\n",
            "3\n",
            "4\n",
            "5\n",
            "6\n",
            "7\n",
            "8\n",
            "9\n",
            "10\n"
          ]
        }
      ]
    },
    {
      "cell_type": "code",
      "source": [
        "# Q2. Calculate the sum of numbers in a list: Given a list of numbers, calculate the sum of all the numbers using a for loop. For example, if the list is [1, 2, 3, 4, 5], the output should be 15.\n",
        "numbers = [1,2,3,4,5]\n",
        "sum = 0\n",
        "for i in range(len(numbers)):\n",
        "  sum = sum + numbers[i]\n",
        "print(sum)\n",
        "\n",
        "numbers2 = [1,2,3,4,5]\n",
        "sum2 = 0\n",
        "for i in numbers2:\n",
        "  sum2 = sum2 + i\n",
        "print(sum2)"
      ],
      "metadata": {
        "colab": {
          "base_uri": "https://localhost:8080/"
        },
        "id": "toYNGbKZC5I-",
        "outputId": "c2b141e2-c991-4a6f-aa5e-d2cd1ed37fe1"
      },
      "execution_count": 36,
      "outputs": [
        {
          "output_type": "stream",
          "name": "stdout",
          "text": [
            "15\n",
            "15\n"
          ]
        }
      ]
    },
    {
      "cell_type": "code",
      "source": [
        "# Q3. Print even numbers in a range: Write a Python program to print all even numbers in a given range using a for loop. For example, if the range is from 1 to 10, the output should be 2, 4, 6, 8, 10.\n",
        "for i in range(10+1):\n",
        "  if i%2 != 0:\n",
        "    print(i)"
      ],
      "metadata": {
        "colab": {
          "base_uri": "https://localhost:8080/"
        },
        "id": "v2hA3YirDpxT",
        "outputId": "98b34e02-c4ae-4d24-c52d-e7ba6a2cad19"
      },
      "execution_count": 47,
      "outputs": [
        {
          "output_type": "stream",
          "name": "stdout",
          "text": [
            "1\n",
            "3\n",
            "5\n",
            "7\n",
            "9\n"
          ]
        }
      ]
    },
    {
      "cell_type": "code",
      "source": [
        "# Q4. Print the elements of a list in reverse order: Given a list, write a Python program to print the elements of the list in reverse order using a for loop. For example, if the list is ['apple', 'banana', 'orange'], the output should be orange, banana, apple (each on a new line).\n",
        "fruits = [\"apple\", \"banana\", \"cherry\"]\n",
        "for fruit in reversed(fruits):\n",
        "  print(fruit)\n",
        "\n"
      ],
      "metadata": {
        "colab": {
          "base_uri": "https://localhost:8080/"
        },
        "id": "cdYRUnJdFxxk",
        "outputId": "04131c83-6cc2-4e94-cd88-40c5fe91de95"
      },
      "execution_count": 52,
      "outputs": [
        {
          "output_type": "stream",
          "name": "stdout",
          "text": [
            "cherry\n",
            "banana\n",
            "apple\n"
          ]
        }
      ]
    },
    {
      "cell_type": "code",
      "source": [
        "# Q5. Find the largest element in a list: Given a list of numbers, find the largest element in the list using a for loop. For example, if the list is [10, 5, 20, 8, 15], the output should be 20.\n",
        "List = [68, 2, 3, 4, 13, 6, 7, 8, 9, 10]\n",
        "largest = List[0]\n",
        "for i in List:\n",
        "  if i > largest:\n",
        "    largest = i\n",
        "print(largest)"
      ],
      "metadata": {
        "colab": {
          "base_uri": "https://localhost:8080/"
        },
        "id": "5qwzDU5HIXOG",
        "outputId": "05870465-eb2c-4052-d1cb-4c05c587966c"
      },
      "execution_count": 58,
      "outputs": [
        {
          "output_type": "stream",
          "name": "stdout",
          "text": [
            "2\n"
          ]
        }
      ]
    }
  ]
}