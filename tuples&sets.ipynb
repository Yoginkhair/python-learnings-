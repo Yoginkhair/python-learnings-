{
  "nbformat": 4,
  "nbformat_minor": 0,
  "metadata": {
    "colab": {
      "provenance": [],
      "authorship_tag": "ABX9TyOg5UrmLhdjVOv1A9safggb",
      "include_colab_link": true
    },
    "kernelspec": {
      "name": "python3",
      "display_name": "Python 3"
    },
    "language_info": {
      "name": "python"
    }
  },
  "cells": [
    {
      "cell_type": "markdown",
      "metadata": {
        "id": "view-in-github",
        "colab_type": "text"
      },
      "source": [
        "<a href=\"https://colab.research.google.com/github/Yoginkhair/python-learnings-/blob/main/tuples%26sets.ipynb\" target=\"_parent\"><img src=\"https://colab.research.google.com/assets/colab-badge.svg\" alt=\"Open In Colab\"/></a>"
      ]
    },
    {
      "cell_type": "code",
      "execution_count": null,
      "metadata": {
        "id": "o0AcICcOXXUn"
      },
      "outputs": [],
      "source": [
        "# list -> [,]\n",
        "# dict -> {key:value,}\n",
        "# tuple -> (,)\n",
        "# sets -> {,}"
      ]
    },
    {
      "cell_type": "code",
      "source": [
        "# CREATING A TUPLE\n",
        "my_tuple = (1,2,3)\n",
        "my_tuple"
      ],
      "metadata": {
        "colab": {
          "base_uri": "https://localhost:8080/"
        },
        "id": "9GVa4eaGXp8D",
        "outputId": "f681dfd3-43ae-48c6-d664-d984408a3fcb"
      },
      "execution_count": 1,
      "outputs": [
        {
          "output_type": "execute_result",
          "data": {
            "text/plain": [
              "(1, 2, 3)"
            ]
          },
          "metadata": {},
          "execution_count": 1
        }
      ]
    },
    {
      "cell_type": "code",
      "source": [
        "# ACCESSING TUPLE ELEMENTS\n",
        "my_tuple2 = (1,2,3)\n",
        "my_tuple2 [2]"
      ],
      "metadata": {
        "colab": {
          "base_uri": "https://localhost:8080/"
        },
        "id": "vPeX3wsEX8gc",
        "outputId": "b4200087-430b-40ae-c99d-ec22c47b500c"
      },
      "execution_count": 2,
      "outputs": [
        {
          "output_type": "execute_result",
          "data": {
            "text/plain": [
              "3"
            ]
          },
          "metadata": {},
          "execution_count": 2
        }
      ]
    },
    {
      "cell_type": "code",
      "source": [
        "# Tuple Operations\n",
        "tp1 = (1,2,3)\n",
        "tp2 = (\"a\",\"b\",\"c\")\n",
        "\n",
        "print(tp1 + tp2)\n",
        "print(tp1 * 2)\n",
        "\n",
        "tp3 = (1,)\n",
        "print(tp3 * 10)"
      ],
      "metadata": {
        "colab": {
          "base_uri": "https://localhost:8080/"
        },
        "id": "Rs1rno4rYJ0T",
        "outputId": "f598767a-57c3-48be-9d28-40d90e6c35d9"
      },
      "execution_count": 13,
      "outputs": [
        {
          "output_type": "stream",
          "name": "stdout",
          "text": [
            "(1, 2, 3, 'a', 'b', 'c')\n",
            "(1, 2, 3, 1, 2, 3)\n",
            "(1, 1, 1, 1, 1, 1, 1, 1, 1, 1)\n"
          ]
        }
      ]
    },
    {
      "cell_type": "code",
      "source": [
        "#  Tuple Unpacking\n",
        "tp1 = (1,2,3)\n",
        "a = 1\n",
        "b = 2\n",
        "c = 3\n",
        "\n",
        "a,b,c = (10,20,30)\n",
        "print(a)"
      ],
      "metadata": {
        "colab": {
          "base_uri": "https://localhost:8080/"
        },
        "id": "wFMKEGIke_Ir",
        "outputId": "806077f7-2963-4ba6-98a1-677554b453cc"
      },
      "execution_count": 15,
      "outputs": [
        {
          "output_type": "stream",
          "name": "stdout",
          "text": [
            "10\n"
          ]
        }
      ]
    },
    {
      "cell_type": "code",
      "source": [
        "# List vs Tuple\n",
        "# list - mutable (add, remove, change)\n",
        "# Tuple - immutable (cannot add, cannot remove, cannot change)\n",
        "\n",
        "# list - memory high\n",
        "# tuple - low memory\n"
      ],
      "metadata": {
        "id": "_rZ55p_Bfdef"
      },
      "execution_count": null,
      "outputs": []
    },
    {
      "cell_type": "markdown",
      "source": [
        "# Sets"
      ],
      "metadata": {
        "id": "SzrXGXTDgMQb"
      }
    },
    {
      "cell_type": "code",
      "source": [
        "ls1 = [1,1,2]\n",
        "# unique value in a list\n",
        "print(set(ls1))"
      ],
      "metadata": {
        "colab": {
          "base_uri": "https://localhost:8080/"
        },
        "id": "0SIm09SjgO8Q",
        "outputId": "9ecf91c7-0c07-44fa-e42e-0f02e694892f"
      },
      "execution_count": 17,
      "outputs": [
        {
          "output_type": "stream",
          "name": "stdout",
          "text": [
            "{1, 2}\n"
          ]
        }
      ]
    },
    {
      "cell_type": "code",
      "source": [
        "s1 = {1, 2, 3}\n",
        "s2 = {2, 3, 4}\n",
        "\n",
        "# Set operation\n",
        "\n",
        "print(\"unions of set : \",s1.union(s2))\n",
        "print(\"intersection of set : \",s1.intersection(s2))\n",
        "print(\"difference of set 1 : \",s1.difference(s2))\n",
        "print(\"difference of set 2 : \",s2.difference(s1))"
      ],
      "metadata": {
        "colab": {
          "base_uri": "https://localhost:8080/"
        },
        "id": "Y-6u2sBTg2tE",
        "outputId": "de0c24e3-9588-4946-f70b-663f3266c067"
      },
      "execution_count": 23,
      "outputs": [
        {
          "output_type": "stream",
          "name": "stdout",
          "text": [
            "unions of set :  {1, 2, 3, 4}\n",
            "intersection of set :  {2, 3}\n",
            "difference of set 1 :  {1}\n",
            "difference of set 2 :  {4}\n"
          ]
        }
      ]
    }
  ]
}