{
  "nbformat": 4,
  "nbformat_minor": 0,
  "metadata": {
    "colab": {
      "provenance": [],
      "authorship_tag": "ABX9TyPeWPeJuY8E56fL8CpgloD9",
      "include_colab_link": true
    },
    "kernelspec": {
      "name": "python3",
      "display_name": "Python 3"
    },
    "language_info": {
      "name": "python"
    }
  },
  "cells": [
    {
      "cell_type": "markdown",
      "metadata": {
        "id": "view-in-github",
        "colab_type": "text"
      },
      "source": [
        "<a href=\"https://colab.research.google.com/github/Yoginkhair/python-learnings-/blob/main/Day04.ipynb\" target=\"_parent\"><img src=\"https://colab.research.google.com/assets/colab-badge.svg\" alt=\"Open In Colab\"/></a>"
      ]
    },
    {
      "cell_type": "code",
      "execution_count": null,
      "metadata": {
        "id": "SJKgPOTHz4yN"
      },
      "outputs": [],
      "source": [
        "# for range(start, end)\n",
        "# by default start = 0, range(10, 20)"
      ]
    },
    {
      "cell_type": "code",
      "source": [
        "for i in range(101):\n",
        "  print(\" hi \",i , end = \"\" )\n",
        "  # i += 1\n",
        "  # n/10 --> reminder of 0"
      ],
      "metadata": {
        "id": "Iek2UQjg0kZ5",
        "colab": {
          "base_uri": "https://localhost:8080/"
        },
        "outputId": "5228ceea-f243-46b7-f939-0b5bbf3bbd0b"
      },
      "execution_count": 17,
      "outputs": [
        {
          "output_type": "stream",
          "name": "stdout",
          "text": [
            " hi  0 hi  1 hi  2 hi  3 hi  4 hi  5 hi  6 hi  7 hi  8 hi  9 hi  10 hi  11 hi  12 hi  13 hi  14 hi  15 hi  16 hi  17 hi  18 hi  19 hi  20 hi  21 hi  22 hi  23 hi  24 hi  25 hi  26 hi  27 hi  28 hi  29 hi  30 hi  31 hi  32 hi  33 hi  34 hi  35 hi  36 hi  37 hi  38 hi  39 hi  40 hi  41 hi  42 hi  43 hi  44 hi  45 hi  46 hi  47 hi  48 hi  49 hi  50 hi  51 hi  52 hi  53 hi  54 hi  55 hi  56 hi  57 hi  58 hi  59 hi  60 hi  61 hi  62 hi  63 hi  64 hi  65 hi  66 hi  67 hi  68 hi  69 hi  70 hi  71 hi  72 hi  73 hi  74 hi  75 hi  76 hi  77 hi  78 hi  79 hi  80 hi  81 hi  82 hi  83 hi  84 hi  85 hi  86 hi  87 hi  88 hi  89 hi  90 hi  91 hi  92 hi  93 hi  94 hi  95 hi  96 hi  97 hi  98 hi  99 hi  100"
          ]
        }
      ]
    },
    {
      "cell_type": "code",
      "source": [
        "num = 60\n",
        "for i in range(100):\n",
        " if (i % 10) == 0:\n",
        "  print(\"Divisible : \", i)\n",
        " else:\n",
        "  print(\"Not Divisible : \", i)"
      ],
      "metadata": {
        "colab": {
          "base_uri": "https://localhost:8080/"
        },
        "id": "xy_GgVMa34Vk",
        "outputId": "577e5c25-94f9-47cf-b0e8-0fc576f52eb1"
      },
      "execution_count": 22,
      "outputs": [
        {
          "output_type": "stream",
          "name": "stdout",
          "text": [
            "Divisible :  0\n",
            "Not Divisible :  1\n",
            "Not Divisible :  2\n",
            "Not Divisible :  3\n",
            "Not Divisible :  4\n",
            "Not Divisible :  5\n",
            "Not Divisible :  6\n",
            "Not Divisible :  7\n",
            "Not Divisible :  8\n",
            "Not Divisible :  9\n",
            "Divisible :  10\n",
            "Not Divisible :  11\n",
            "Not Divisible :  12\n",
            "Not Divisible :  13\n",
            "Not Divisible :  14\n",
            "Not Divisible :  15\n",
            "Not Divisible :  16\n",
            "Not Divisible :  17\n",
            "Not Divisible :  18\n",
            "Not Divisible :  19\n",
            "Divisible :  20\n",
            "Not Divisible :  21\n",
            "Not Divisible :  22\n",
            "Not Divisible :  23\n",
            "Not Divisible :  24\n",
            "Not Divisible :  25\n",
            "Not Divisible :  26\n",
            "Not Divisible :  27\n",
            "Not Divisible :  28\n",
            "Not Divisible :  29\n",
            "Divisible :  30\n",
            "Not Divisible :  31\n",
            "Not Divisible :  32\n",
            "Not Divisible :  33\n",
            "Not Divisible :  34\n",
            "Not Divisible :  35\n",
            "Not Divisible :  36\n",
            "Not Divisible :  37\n",
            "Not Divisible :  38\n",
            "Not Divisible :  39\n",
            "Divisible :  40\n",
            "Not Divisible :  41\n",
            "Not Divisible :  42\n",
            "Not Divisible :  43\n",
            "Not Divisible :  44\n",
            "Not Divisible :  45\n",
            "Not Divisible :  46\n",
            "Not Divisible :  47\n",
            "Not Divisible :  48\n",
            "Not Divisible :  49\n",
            "Divisible :  50\n",
            "Not Divisible :  51\n",
            "Not Divisible :  52\n",
            "Not Divisible :  53\n",
            "Not Divisible :  54\n",
            "Not Divisible :  55\n",
            "Not Divisible :  56\n",
            "Not Divisible :  57\n",
            "Not Divisible :  58\n",
            "Not Divisible :  59\n",
            "Divisible :  60\n",
            "Not Divisible :  61\n",
            "Not Divisible :  62\n",
            "Not Divisible :  63\n",
            "Not Divisible :  64\n",
            "Not Divisible :  65\n",
            "Not Divisible :  66\n",
            "Not Divisible :  67\n",
            "Not Divisible :  68\n",
            "Not Divisible :  69\n",
            "Divisible :  70\n",
            "Not Divisible :  71\n",
            "Not Divisible :  72\n",
            "Not Divisible :  73\n",
            "Not Divisible :  74\n",
            "Not Divisible :  75\n",
            "Not Divisible :  76\n",
            "Not Divisible :  77\n",
            "Not Divisible :  78\n",
            "Not Divisible :  79\n",
            "Divisible :  80\n",
            "Not Divisible :  81\n",
            "Not Divisible :  82\n",
            "Not Divisible :  83\n",
            "Not Divisible :  84\n",
            "Not Divisible :  85\n",
            "Not Divisible :  86\n",
            "Not Divisible :  87\n",
            "Not Divisible :  88\n",
            "Not Divisible :  89\n",
            "Divisible :  90\n",
            "Not Divisible :  91\n",
            "Not Divisible :  92\n",
            "Not Divisible :  93\n",
            "Not Divisible :  94\n",
            "Not Divisible :  95\n",
            "Not Divisible :  96\n",
            "Not Divisible :  97\n",
            "Not Divisible :  98\n",
            "Not Divisible :  99\n"
          ]
        }
      ]
    },
    {
      "cell_type": "code",
      "source": [
        "total = 0\n",
        "num = int(input(\"Enter a number (0 to stop): \"))\n",
        "while num !=0:\n",
        "  total += num\n",
        "  num = int(input(\"Enter a number (0 to stop): \"))\n",
        "\n",
        "print(\"Total : \", total)"
      ],
      "metadata": {
        "colab": {
          "base_uri": "https://localhost:8080/"
        },
        "id": "i6PBck4B8Uqw",
        "outputId": "6020a693-6d1b-43fa-fab7-85435da33f38"
      },
      "execution_count": 25,
      "outputs": [
        {
          "output_type": "stream",
          "name": "stdout",
          "text": [
            "Enter a number (0 to stop): 5\n",
            "Enter a number (0 to stop): 5\n",
            "Enter a number (0 to stop): 5\n",
            "Enter a number (0 to stop): 0\n",
            "Total :  15\n"
          ]
        }
      ]
    }
  ]
}