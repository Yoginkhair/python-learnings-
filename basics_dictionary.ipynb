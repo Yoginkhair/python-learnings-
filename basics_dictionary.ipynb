{
  "nbformat": 4,
  "nbformat_minor": 0,
  "metadata": {
    "colab": {
      "provenance": [],
      "authorship_tag": "ABX9TyOx1G54+3V8vl70DH9fPLdD",
      "include_colab_link": true
    },
    "kernelspec": {
      "name": "python3",
      "display_name": "Python 3"
    },
    "language_info": {
      "name": "python"
    }
  },
  "cells": [
    {
      "cell_type": "markdown",
      "metadata": {
        "id": "view-in-github",
        "colab_type": "text"
      },
      "source": [
        "<a href=\"https://colab.research.google.com/github/Yoginkhair/python-learnings-/blob/main/basics_dictionary.ipynb\" target=\"_parent\"><img src=\"https://colab.research.google.com/assets/colab-badge.svg\" alt=\"Open In Colab\"/></a>"
      ]
    },
    {
      "cell_type": "markdown",
      "source": [
        "# Creating a Dictionary"
      ],
      "metadata": {
        "id": "7OwSfw6h3sSb"
      }
    },
    {
      "cell_type": "code",
      "source": [
        "# List = []\n",
        "# Dict = {}"
      ],
      "metadata": {
        "id": "f7kJaKdf5p-o"
      },
      "execution_count": null,
      "outputs": []
    },
    {
      "cell_type": "code",
      "source": [
        "student = {\"Name\":\"Arhan\",\"Age\":\"19\",\"Gender\":\"Male\",\"Class\":\"12\"}\n",
        "#  key-value pairs - 4\n",
        "#  key & value are linked using :\n",
        "print(student)\n",
        "\n",
        "# Accessing Values\n",
        "student [\"Name\"]\n",
        "\n",
        "# Looping through a Dictionary\n",
        "for key in student:\n",
        "    print(key)\n",
        "\n",
        "for value in student.values():\n",
        "    print(value)\n",
        "\n",
        "for key, value in student.items():\n",
        "    print(key,\":\",value)"
      ],
      "metadata": {
        "colab": {
          "base_uri": "https://localhost:8080/"
        },
        "id": "vQ9_JNzn5ytr",
        "outputId": "bad27b4b-7926-4b02-e5ab-8130ed4ccfcf"
      },
      "execution_count": null,
      "outputs": [
        {
          "output_type": "stream",
          "name": "stdout",
          "text": [
            "{'Name': 'Arhan', 'Age': '19', 'Gender': 'Male', 'Class': '12'}\n",
            "Name\n",
            "Age\n",
            "Gender\n",
            "Class\n",
            "Arhan\n",
            "19\n",
            "Male\n",
            "12\n",
            "Name : Arhan\n",
            "Age : 19\n",
            "Gender : Male\n",
            "Class : 12\n"
          ]
        }
      ]
    },
    {
      "cell_type": "code",
      "source": [
        "# Dictionary creation using two lists\n",
        "keys = ['a', 'b', 'c']\n",
        "values = [1, 2, 3]\n",
        "new_dict = {k:v for k,v in zip(keys,values)}\n",
        "# print(new_dict)\n",
        "\n",
        "for k,v in new_dict.items():\n",
        "    print(k,v)"
      ],
      "metadata": {
        "colab": {
          "base_uri": "https://localhost:8080/"
        },
        "id": "OmyN20V47Df8",
        "outputId": "26213c0b-6029-40c2-fc7e-df1e558b285d"
      },
      "execution_count": null,
      "outputs": [
        {
          "output_type": "stream",
          "name": "stdout",
          "text": [
            "a 1\n",
            "b 2\n",
            "c 3\n"
          ]
        }
      ]
    },
    {
      "cell_type": "code",
      "source": [
        "# prompt: teach me how to create a dictionary using one list\n",
        "\n",
        "my_list = ['apple', 'banana', 'cherry', 'date']\n",
        "\n",
        "# Create a dictionary where the list elements are keys and their indices are values\n",
        "my_dict = {element: index for index, element in enumerate(my_list)}\n",
        "\n",
        "my_dict"
      ],
      "metadata": {
        "id": "vSu3v9c3Kf-R",
        "colab": {
          "base_uri": "https://localhost:8080/"
        },
        "outputId": "a5dfaed3-ba83-4d00-ba99-d9c3a7228cbd"
      },
      "execution_count": 1,
      "outputs": [
        {
          "output_type": "execute_result",
          "data": {
            "text/plain": [
              "{'apple': 0, 'banana': 1, 'cherry': 2, 'date': 3}"
            ]
          },
          "metadata": {},
          "execution_count": 1
        }
      ]
    }
  ]
}