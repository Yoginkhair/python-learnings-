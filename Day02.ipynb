{
  "nbformat": 4,
  "nbformat_minor": 0,
  "metadata": {
    "colab": {
      "provenance": [],
      "authorship_tag": "ABX9TyPzswe12bGdOILn47XyWlZq",
      "include_colab_link": true
    },
    "kernelspec": {
      "name": "python3",
      "display_name": "Python 3"
    },
    "language_info": {
      "name": "python"
    }
  },
  "cells": [
    {
      "cell_type": "markdown",
      "metadata": {
        "id": "view-in-github",
        "colab_type": "text"
      },
      "source": [
        "<a href=\"https://colab.research.google.com/github/Yoginkhair/python-learnings-/blob/main/Day02.ipynb\" target=\"_parent\"><img src=\"https://colab.research.google.com/assets/colab-badge.svg\" alt=\"Open In Colab\"/></a>"
      ]
    },
    {
      "cell_type": "code",
      "source": [
        "# int - integer number\n",
        "# float - decimal number\n",
        "# str - char and set of char"
      ],
      "metadata": {
        "colab": {
          "base_uri": "https://localhost:8080/"
        },
        "id": "7wj3QZyPZlnk",
        "outputId": "0d8329dd-7efd-4307-ab44-99102f8dff10"
      },
      "execution_count": 1,
      "outputs": [
        {
          "output_type": "execute_result",
          "data": {
            "text/plain": [
              "int"
            ]
          },
          "metadata": {},
          "execution_count": 1
        }
      ]
    },
    {
      "cell_type": "code",
      "source": [
        "# ctrl + a (select all)\n",
        "# ctrl + / (comment all)"
      ],
      "metadata": {
        "id": "2TVFmFSOZljU"
      },
      "execution_count": null,
      "outputs": []
    },
    {
      "cell_type": "code",
      "source": [
        "# variables"
      ],
      "metadata": {
        "id": "WkZy1hfaZler"
      },
      "execution_count": null,
      "outputs": []
    },
    {
      "cell_type": "code",
      "source": [
        "person1 = 90\n",
        "person2 = 60\n",
        "person3 = 70\n",
        "print(person1 + person2)"
      ],
      "metadata": {
        "colab": {
          "base_uri": "https://localhost:8080/"
        },
        "id": "O5EEsyFXZlae",
        "outputId": "2cc3fb92-5c61-4046-e2f1-d6bcb3b1bbed"
      },
      "execution_count": 4,
      "outputs": [
        {
          "output_type": "stream",
          "name": "stdout",
          "text": [
            "150\n"
          ]
        }
      ]
    },
    {
      "cell_type": "code",
      "execution_count": 5,
      "metadata": {
        "id": "477Oqx9iYOGl"
      },
      "outputs": [],
      "source": [
        "x = 1\n",
        "y = 2\n",
        "z = 3"
      ]
    },
    {
      "cell_type": "code",
      "source": [
        "x,y,z = 1,2,3"
      ],
      "metadata": {
        "id": "r1FjoYTkcS8m"
      },
      "execution_count": null,
      "outputs": []
    },
    {
      "cell_type": "code",
      "source": [
        "a, b = 10, 20\n",
        "c = a + b"
      ],
      "metadata": {
        "id": "lhC1xlYZcS5h"
      },
      "execution_count": 7,
      "outputs": []
    },
    {
      "cell_type": "code",
      "source": [
        "c"
      ],
      "metadata": {
        "colab": {
          "base_uri": "https://localhost:8080/"
        },
        "id": "Hmav1aJPczyT",
        "outputId": "3ff023f7-f1e9-47a5-b147-97adbaef0f8e"
      },
      "execution_count": 8,
      "outputs": [
        {
          "output_type": "execute_result",
          "data": {
            "text/plain": [
              "30"
            ]
          },
          "metadata": {},
          "execution_count": 8
        }
      ]
    }
  ]
}