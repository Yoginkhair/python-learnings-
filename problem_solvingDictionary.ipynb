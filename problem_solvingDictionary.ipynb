{
  "nbformat": 4,
  "nbformat_minor": 0,
  "metadata": {
    "colab": {
      "provenance": [],
      "authorship_tag": "ABX9TyPI71PbOCH0mByB2vhFzveA",
      "include_colab_link": true
    },
    "kernelspec": {
      "name": "python3",
      "display_name": "Python 3"
    },
    "language_info": {
      "name": "python"
    }
  },
  "cells": [
    {
      "cell_type": "markdown",
      "metadata": {
        "id": "view-in-github",
        "colab_type": "text"
      },
      "source": [
        "<a href=\"https://colab.research.google.com/github/Yoginkhair/python-learnings-/blob/main/problem_solvingDictionary.ipynb\" target=\"_parent\"><img src=\"https://colab.research.google.com/assets/colab-badge.svg\" alt=\"Open In Colab\"/></a>"
      ]
    },
    {
      "cell_type": "code",
      "execution_count": null,
      "metadata": {
        "id": "eejGORUHGVXO"
      },
      "outputs": [],
      "source": [
        "# Q1. Lets say we have a list l1 = [1,2,2,3,2,3,4,5], now identify the most repetative element in the list?"
      ]
    },
    {
      "cell_type": "code",
      "source": [
        "l1 = [1,2,2,3,2,3,4,5]\n",
        "dic = {}\n",
        "for item in l1:\n",
        "  if item in dic:\n",
        "    dic[item] += 1\n",
        "  else:\n",
        "    dic[item] = 1\n",
        "\n",
        "temp = 0\n",
        "final_result = None\n",
        "for key,value in dic.items():\n",
        "  print(f\"key : {key} - times : {value} | temp : {temp}\")\n",
        "  if value > temp:\n",
        "    temp = value\n",
        "    final_result = key\n",
        "print(f\"Final result : {final_result}\")"
      ],
      "metadata": {
        "colab": {
          "base_uri": "https://localhost:8080/"
        },
        "id": "S3oQT-G6GsfO",
        "outputId": "98e52833-70d0-4bcd-aef7-5553fce325b0"
      },
      "execution_count": null,
      "outputs": [
        {
          "output_type": "stream",
          "name": "stdout",
          "text": [
            "key : 1 - times : 1 | temp : 0\n",
            "key : 2 - times : 3 | temp : 1\n",
            "key : 3 - times : 2 | temp : 3\n",
            "key : 4 - times : 1 | temp : 3\n",
            "key : 5 - times : 1 | temp : 3\n",
            "Final result : 2\n"
          ]
        }
      ]
    }
  ]
}