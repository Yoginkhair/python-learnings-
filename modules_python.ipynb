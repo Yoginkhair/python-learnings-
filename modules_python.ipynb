{
  "nbformat": 4,
  "nbformat_minor": 0,
  "metadata": {
    "colab": {
      "provenance": [],
      "authorship_tag": "ABX9TyNyniTeI72y2qOqDvkdDgH0",
      "include_colab_link": true
    },
    "kernelspec": {
      "name": "python3",
      "display_name": "Python 3"
    },
    "language_info": {
      "name": "python"
    }
  },
  "cells": [
    {
      "cell_type": "markdown",
      "metadata": {
        "id": "view-in-github",
        "colab_type": "text"
      },
      "source": [
        "<a href=\"https://colab.research.google.com/github/Yoginkhair/python-learnings-/blob/main/modules_python.ipynb\" target=\"_parent\"><img src=\"https://colab.research.google.com/assets/colab-badge.svg\" alt=\"Open In Colab\"/></a>"
      ]
    },
    {
      "cell_type": "markdown",
      "source": [
        "# Python Modules"
      ],
      "metadata": {
        "id": "BQkf69TCvhrb"
      }
    },
    {
      "cell_type": "code",
      "execution_count": 1,
      "metadata": {
        "id": "aVWn3XervgaV"
      },
      "outputs": [],
      "source": [
        "# math, random\n",
        "# Python library / module : os, json, request"
      ]
    },
    {
      "cell_type": "code",
      "source": [
        "import math as m # everything retated to mathamatics\n",
        "\n",
        "print(\"Square root : \",m.sqrt(100))\n",
        "print(\"value of pi : \",m.pi)\n",
        "print(\"Power of a numner : \",m.pow(2, 10))\n",
        "print(\"Factorial : \", m.factorial(5))"
      ],
      "metadata": {
        "colab": {
          "base_uri": "https://localhost:8080/"
        },
        "id": "gpGy2WjAxX1b",
        "outputId": "ec504a72-6467-411c-c3cb-842b077b33bf"
      },
      "execution_count": 6,
      "outputs": [
        {
          "output_type": "stream",
          "name": "stdout",
          "text": [
            "Square root :  10.0\n",
            "value of pi :  3.141592653589793\n",
            "Power of a numner :  1024.0\n",
            "Factorial :  120\n"
          ]
        }
      ]
    },
    {
      "cell_type": "code",
      "source": [
        "import random as r # suggest me anything Random\n",
        "\n",
        "print(\"Random numbers : \",r.random())\n",
        "print(\"printing of a random Integer : \", r.randint(1,100))\n",
        "print(\"printing of a random unique number : \", r.uniform(1,100))\n",
        "print(\"printing of a random range : \", r.randrange(1,100,20))\n",
        "print(\"printing of a random choice : \", r.choice(['apple', 'banana', 'mango']))\n",
        "print(\"printing of a random choices : \", r.choices(['apple', 'banana', 'mango'], k= 2))\n",
        "print(\"printing of a random samples : \", r.sample([1,2,3,4,5], 2))\n",
        "lst = ['1','2','3','4','5','6','7','8','9','10']\n",
        "print(\"Unshuffled : \",lst)\n",
        "r.shuffle(lst)\n",
        "print(\"shuffled : \",lst)\n",
        "print(\"\")"
      ],
      "metadata": {
        "colab": {
          "base_uri": "https://localhost:8080/"
        },
        "id": "y7UaftB_yrIy",
        "outputId": "f052800f-bdbb-45db-d16c-d39535dddb36"
      },
      "execution_count": 47,
      "outputs": [
        {
          "output_type": "stream",
          "name": "stdout",
          "text": [
            "Random numbers :  0.7046220093130474\n",
            "printing of a random Integer :  42\n",
            "printing of a random unique number :  41.826477420602075\n",
            "printing of a random range :  41\n",
            "printing of a random choice :  banana\n",
            "printing of a random choices :  ['apple', 'banana']\n",
            "printing of a random samples :  [1, 2]\n",
            "Unshuffled :  ['1', '2', '3', '4', '5', '6', '7', '8', '9', '10']\n",
            "shuffled :  ['10', '4', '9', '5', '8', '3', '2', '6', '1', '7']\n",
            "\n"
          ]
        }
      ]
    },
    {
      "cell_type": "code",
      "source": [
        "# prompt: Guide me how can I create a new file to import my external python code\n",
        "\n",
        "   from google.colab import drive\n",
        "   drive.mount('/content/drive')\n",
        "   ```\n",
        "\n",
        "**5. Import Your Code:**\n",
        "\n",
        "   - In your Colab notebook, specify the path to your external Python file and import it. Use `sys.path.append` if your external file is in different directory than your current working directory.\n",
        "     ```python\n",
        "     import sys\n",
        "     sys.path.append('/content/drive/MyDrive/YourFolder')  # Replace with your actual path\n",
        "\n",
        "     import my_module # where my_module.py is located\n",
        "\n",
        "     # Then use the functions in my_module.\n",
        "     my_module.my_function()\n",
        "\n",
        "     ```\n",
        "     Make sure to replace `/content/drive/MyDrive/YourFolder` with the actual path to your external Python file within your Google Drive.\n",
        "\n",
        "**Example:**\n",
        "\n",
        "Let's say you saved your file in `MyDrive/Colab Notebooks/my_module.py`.\n",
        "Here's what your Colab notebook might look like:\n",
        "\n",
        "\n"
      ],
      "metadata": {
        "id": "aSxZ9Y1ZFRUl"
      },
      "execution_count": null,
      "outputs": []
    },
    {
      "cell_type": "code",
      "source": [
        "!apt-get install -y xvfb # Install Xvfb\n",
        "!pip install pyvirtualdisplay # Install pyvirtualdisplay\n",
        "\n",
        "from pyvirtualdisplay import Display # Import Display\n",
        "display = Display(visible=0, size=(1400, 900)) # Create a virtual display\n",
        "display.start() # Start the virtual display\n",
        "import random as ran\n",
        "import turtle as t\n",
        "global secret\n",
        "secret = ran.randint(1,5)\n",
        "print(\"Think of a random number B/W 1 to 5!!🤓\")\n",
        "\n",
        "while True:\n",
        "    guess = int(input(\"What's your guess? : \"))\n",
        "    if guess == secret:\n",
        "     print(\"Oh nice you got it!🧑🏻‍🔬\")\n",
        "     for _ in range(4):\n",
        "          t.forward(100)\n",
        "          t.right(90)\n",
        "\n",
        "\n",
        "     t.left(45)\n",
        "     t.forward(71)\n",
        "     t.right(90)\n",
        "     t.forward(71)\n",
        "     break;\n",
        "    else:\n",
        "     print(f\"hehehe wrong!🥹 the correct is {secret}\")\n",
        "\n"
      ],
      "metadata": {
        "colab": {
          "base_uri": "https://localhost:8080/"
        },
        "id": "DiZLzD7iFhzg",
        "outputId": "f4011a7a-e832-4864-b360-367751b1fd00"
      },
      "execution_count": 59,
      "outputs": [
        {
          "output_type": "stream",
          "name": "stdout",
          "text": [
            "Reading package lists... Done\n",
            "Building dependency tree... Done\n",
            "Reading state information... Done\n",
            "The following additional packages will be installed:\n",
            "  libfontenc1 libxfont2 libxkbfile1 x11-xkb-utils xfonts-base xfonts-encodings xfonts-utils\n",
            "  xserver-common\n",
            "The following NEW packages will be installed:\n",
            "  libfontenc1 libxfont2 libxkbfile1 x11-xkb-utils xfonts-base xfonts-encodings xfonts-utils\n",
            "  xserver-common xvfb\n",
            "0 upgraded, 9 newly installed, 0 to remove and 49 not upgraded.\n",
            "Need to get 7,815 kB of archives.\n",
            "After this operation, 11.9 MB of additional disk space will be used.\n",
            "Get:1 http://archive.ubuntu.com/ubuntu jammy/main amd64 libfontenc1 amd64 1:1.1.4-1build3 [14.7 kB]\n",
            "Get:2 http://archive.ubuntu.com/ubuntu jammy/main amd64 libxfont2 amd64 1:2.0.5-1build1 [94.5 kB]\n",
            "Get:3 http://archive.ubuntu.com/ubuntu jammy/main amd64 libxkbfile1 amd64 1:1.1.0-1build3 [71.8 kB]\n",
            "Get:4 http://archive.ubuntu.com/ubuntu jammy/main amd64 x11-xkb-utils amd64 7.7+5build4 [172 kB]\n",
            "Get:5 http://archive.ubuntu.com/ubuntu jammy/main amd64 xfonts-encodings all 1:1.0.5-0ubuntu2 [578 kB]\n",
            "Get:6 http://archive.ubuntu.com/ubuntu jammy/main amd64 xfonts-utils amd64 1:7.7+6build2 [94.6 kB]\n",
            "Get:7 http://archive.ubuntu.com/ubuntu jammy/main amd64 xfonts-base all 1:1.0.5 [5,896 kB]\n",
            "Get:8 http://archive.ubuntu.com/ubuntu jammy-updates/main amd64 xserver-common all 2:21.1.4-2ubuntu1.7~22.04.12 [28.7 kB]\n",
            "Get:9 http://archive.ubuntu.com/ubuntu jammy-updates/universe amd64 xvfb amd64 2:21.1.4-2ubuntu1.7~22.04.12 [864 kB]\n",
            "Fetched 7,815 kB in 3s (2,968 kB/s)\n",
            "Selecting previously unselected package libfontenc1:amd64.\n",
            "(Reading database ... 123623 files and directories currently installed.)\n",
            "Preparing to unpack .../0-libfontenc1_1%3a1.1.4-1build3_amd64.deb ...\n",
            "Unpacking libfontenc1:amd64 (1:1.1.4-1build3) ...\n",
            "Selecting previously unselected package libxfont2:amd64.\n",
            "Preparing to unpack .../1-libxfont2_1%3a2.0.5-1build1_amd64.deb ...\n",
            "Unpacking libxfont2:amd64 (1:2.0.5-1build1) ...\n",
            "Selecting previously unselected package libxkbfile1:amd64.\n",
            "Preparing to unpack .../2-libxkbfile1_1%3a1.1.0-1build3_amd64.deb ...\n",
            "Unpacking libxkbfile1:amd64 (1:1.1.0-1build3) ...\n",
            "Selecting previously unselected package x11-xkb-utils.\n",
            "Preparing to unpack .../3-x11-xkb-utils_7.7+5build4_amd64.deb ...\n",
            "Unpacking x11-xkb-utils (7.7+5build4) ...\n",
            "Selecting previously unselected package xfonts-encodings.\n",
            "Preparing to unpack .../4-xfonts-encodings_1%3a1.0.5-0ubuntu2_all.deb ...\n",
            "Unpacking xfonts-encodings (1:1.0.5-0ubuntu2) ...\n",
            "Selecting previously unselected package xfonts-utils.\n",
            "Preparing to unpack .../5-xfonts-utils_1%3a7.7+6build2_amd64.deb ...\n",
            "Unpacking xfonts-utils (1:7.7+6build2) ...\n",
            "Selecting previously unselected package xfonts-base.\n",
            "Preparing to unpack .../6-xfonts-base_1%3a1.0.5_all.deb ...\n",
            "Unpacking xfonts-base (1:1.0.5) ...\n",
            "Selecting previously unselected package xserver-common.\n",
            "Preparing to unpack .../7-xserver-common_2%3a21.1.4-2ubuntu1.7~22.04.12_all.deb ...\n",
            "Unpacking xserver-common (2:21.1.4-2ubuntu1.7~22.04.12) ...\n",
            "Selecting previously unselected package xvfb.\n",
            "Preparing to unpack .../8-xvfb_2%3a21.1.4-2ubuntu1.7~22.04.12_amd64.deb ...\n",
            "Unpacking xvfb (2:21.1.4-2ubuntu1.7~22.04.12) ...\n",
            "Setting up libfontenc1:amd64 (1:1.1.4-1build3) ...\n",
            "Setting up xfonts-encodings (1:1.0.5-0ubuntu2) ...\n",
            "Setting up libxkbfile1:amd64 (1:1.1.0-1build3) ...\n",
            "Setting up libxfont2:amd64 (1:2.0.5-1build1) ...\n",
            "Setting up x11-xkb-utils (7.7+5build4) ...\n",
            "Setting up xfonts-utils (1:7.7+6build2) ...\n",
            "Setting up xfonts-base (1:1.0.5) ...\n",
            "Setting up xserver-common (2:21.1.4-2ubuntu1.7~22.04.12) ...\n",
            "Setting up xvfb (2:21.1.4-2ubuntu1.7~22.04.12) ...\n",
            "Processing triggers for man-db (2.10.2-1) ...\n",
            "Processing triggers for fontconfig (2.13.1-4.2ubuntu5) ...\n",
            "Processing triggers for libc-bin (2.35-0ubuntu3.4) ...\n",
            "/sbin/ldconfig.real: /usr/local/lib/libhwloc.so.15 is not a symbolic link\n",
            "\n",
            "/sbin/ldconfig.real: /usr/local/lib/libtbbbind_2_0.so.3 is not a symbolic link\n",
            "\n",
            "/sbin/ldconfig.real: /usr/local/lib/libtbbmalloc.so.2 is not a symbolic link\n",
            "\n",
            "/sbin/ldconfig.real: /usr/local/lib/libtcm_debug.so.1 is not a symbolic link\n",
            "\n",
            "/sbin/ldconfig.real: /usr/local/lib/libtbb.so.12 is not a symbolic link\n",
            "\n",
            "/sbin/ldconfig.real: /usr/local/lib/libumf.so.0 is not a symbolic link\n",
            "\n",
            "/sbin/ldconfig.real: /usr/local/lib/libur_loader.so.0 is not a symbolic link\n",
            "\n",
            "/sbin/ldconfig.real: /usr/local/lib/libtbbbind_2_5.so.3 is not a symbolic link\n",
            "\n",
            "/sbin/ldconfig.real: /usr/local/lib/libtbbmalloc_proxy.so.2 is not a symbolic link\n",
            "\n",
            "/sbin/ldconfig.real: /usr/local/lib/libur_adapter_opencl.so.0 is not a symbolic link\n",
            "\n",
            "/sbin/ldconfig.real: /usr/local/lib/libur_adapter_level_zero.so.0 is not a symbolic link\n",
            "\n",
            "/sbin/ldconfig.real: /usr/local/lib/libtcm.so.1 is not a symbolic link\n",
            "\n",
            "/sbin/ldconfig.real: /usr/local/lib/libtbbbind.so.3 is not a symbolic link\n",
            "\n",
            "Collecting pyvirtualdisplay\n",
            "  Downloading PyVirtualDisplay-3.0-py3-none-any.whl.metadata (943 bytes)\n",
            "Downloading PyVirtualDisplay-3.0-py3-none-any.whl (15 kB)\n",
            "Installing collected packages: pyvirtualdisplay\n",
            "Successfully installed pyvirtualdisplay-3.0\n",
            "Think of a random number B/W 1 to 5!!🤓\n",
            "What's your guess? : 5\n",
            "hehehe wrong!🥹 the correct is 3\n",
            "What's your guess? : 3\n",
            "Oh nice you got it!🧑🏻‍🔬\n"
          ]
        }
      ]
    }
  ]
}