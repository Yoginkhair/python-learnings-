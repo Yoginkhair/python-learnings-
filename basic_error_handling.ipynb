{
  "nbformat": 4,
  "nbformat_minor": 0,
  "metadata": {
    "colab": {
      "provenance": [],
      "authorship_tag": "ABX9TyM25X3yVIim9YV7HxDWRRW/",
      "include_colab_link": true
    },
    "kernelspec": {
      "name": "python3",
      "display_name": "Python 3"
    },
    "language_info": {
      "name": "python"
    }
  },
  "cells": [
    {
      "cell_type": "markdown",
      "metadata": {
        "id": "view-in-github",
        "colab_type": "text"
      },
      "source": [
        "<a href=\"https://colab.research.google.com/github/Yoginkhair/python-learnings-/blob/main/basic_error_handling.ipynb\" target=\"_parent\"><img src=\"https://colab.research.google.com/assets/colab-badge.svg\" alt=\"Open In Colab\"/></a>"
      ]
    },
    {
      "cell_type": "markdown",
      "source": [
        "# Error handling in Python"
      ],
      "metadata": {
        "id": "zuDYOZmavqXt"
      }
    },
    {
      "cell_type": "code",
      "execution_count": 29,
      "metadata": {
        "id": "PrU1UIgxvkwo"
      },
      "outputs": [],
      "source": [
        "try:\n",
        "  \"Hello World!\"\n",
        "except SyntaxError:\n",
        "  print(\"Syntax Error\")"
      ]
    },
    {
      "cell_type": "code",
      "source": [
        "try:\n",
        "  2 + \"Hello\"\n",
        "except TypeError:\n",
        "  print(\"You cannot add integer and string\")"
      ],
      "metadata": {
        "colab": {
          "base_uri": "https://localhost:8080/"
        },
        "id": "X3KhmoRlwDXz",
        "outputId": "fca12dc8-b313-4a94-e631-fb7d1a7607ba"
      },
      "execution_count": 25,
      "outputs": [
        {
          "output_type": "stream",
          "name": "stdout",
          "text": [
            "You cannot add integer and string\n"
          ]
        }
      ]
    },
    {
      "cell_type": "code",
      "source": [
        "try:\n",
        "  name\n",
        "except NameError:\n",
        "  print(\"Value not defined\")"
      ],
      "metadata": {
        "colab": {
          "base_uri": "https://localhost:8080/"
        },
        "id": "dmCOyoHAwLNE",
        "outputId": "e48ab3ad-c3be-4062-e3c5-85e139ba6fe8"
      },
      "execution_count": 24,
      "outputs": [
        {
          "output_type": "stream",
          "name": "stdout",
          "text": [
            "Value not defined\n"
          ]
        }
      ]
    },
    {
      "cell_type": "code",
      "source": [
        "list_sample = [1, 2, 3]\n",
        "try:\n",
        "  list_sample[3]\n",
        "except IndexError:\n",
        "  print(\"no element found\")"
      ],
      "metadata": {
        "colab": {
          "base_uri": "https://localhost:8080/"
        },
        "id": "Bvjvp2EGz4xz",
        "outputId": "c485cee4-bafd-474f-f863-8aacf3e7eee3"
      },
      "execution_count": 16,
      "outputs": [
        {
          "output_type": "stream",
          "name": "stdout",
          "text": [
            "no element found\n"
          ]
        }
      ]
    },
    {
      "cell_type": "code",
      "source": [
        "d1 = {'k1':'v1'}\n",
        "try:\n",
        "  d1 ['k2']\n",
        "except KeyError:\n",
        "  print(\"Key not found\")"
      ],
      "metadata": {
        "id": "ksmmRcJg0Dn6",
        "colab": {
          "base_uri": "https://localhost:8080/"
        },
        "outputId": "3be5ebdd-0c15-4a92-e339-1d51b90bc1f5"
      },
      "execution_count": 23,
      "outputs": [
        {
          "output_type": "stream",
          "name": "stdout",
          "text": [
            "Key not found\n"
          ]
        }
      ]
    },
    {
      "cell_type": "code",
      "source": [
        "int(2.3)"
      ],
      "metadata": {
        "id": "FuKpVqZw0Dg_",
        "colab": {
          "base_uri": "https://localhost:8080/"
        },
        "outputId": "703e257e-5de4-4b4e-b840-5afb1de62bf9"
      },
      "execution_count": 11,
      "outputs": [
        {
          "output_type": "execute_result",
          "data": {
            "text/plain": [
              "2"
            ]
          },
          "metadata": {},
          "execution_count": 11
        }
      ]
    },
    {
      "cell_type": "code",
      "source": [
        "int(9.8)"
      ],
      "metadata": {
        "colab": {
          "base_uri": "https://localhost:8080/"
        },
        "id": "opZeQPb3W_W1",
        "outputId": "25148943-25fa-4143-ba4e-071cc05e2f11"
      },
      "execution_count": 12,
      "outputs": [
        {
          "output_type": "execute_result",
          "data": {
            "text/plain": [
              "9"
            ]
          },
          "metadata": {},
          "execution_count": 12
        }
      ]
    },
    {
      "cell_type": "code",
      "source": [
        "try:\n",
        "  int(\"Hello\")\n",
        "except ValueError:\n",
        "  print(\"You cannot convert string to int\")"
      ],
      "metadata": {
        "colab": {
          "base_uri": "https://localhost:8080/"
        },
        "id": "eWeVx9RtXCXU",
        "outputId": "505907f3-b836-4efb-acd8-d7e1088ea429"
      },
      "execution_count": 18,
      "outputs": [
        {
          "output_type": "stream",
          "name": "stdout",
          "text": [
            "You cannot convert string to int\n"
          ]
        }
      ]
    },
    {
      "cell_type": "markdown",
      "source": [
        "# Example :"
      ],
      "metadata": {
        "id": "IOERaQSIXXua"
      }
    },
    {
      "cell_type": "code",
      "source": [
        "try:\n",
        "  x = 10/0\n",
        "  print(x)\n",
        "except ZeroDivisionError :\n",
        "  print(\"You cannot divide by zero\")"
      ],
      "metadata": {
        "colab": {
          "base_uri": "https://localhost:8080/"
        },
        "id": "iDwUb3c_Xnog",
        "outputId": "8e534f61-f828-4181-84f3-e5be470436a4"
      },
      "execution_count": 19,
      "outputs": [
        {
          "output_type": "stream",
          "name": "stdout",
          "text": [
            "You cannot divide by zero\n"
          ]
        }
      ]
    },
    {
      "cell_type": "code",
      "source": [
        "# try except\n",
        "\n",
        "try:\n",
        "  result = 10/0\n",
        "\n",
        "except ZeroDivisionError :\n",
        "  print(\"You cannot divide by zero\")"
      ],
      "metadata": {
        "colab": {
          "base_uri": "https://localhost:8080/"
        },
        "id": "nhSxzB_UXbkR",
        "outputId": "f62b7226-bd74-4d44-a1e3-afed48c79faa"
      },
      "execution_count": 15,
      "outputs": [
        {
          "output_type": "stream",
          "name": "stdout",
          "text": [
            "You cannot divide by zero\n"
          ]
        }
      ]
    },
    {
      "cell_type": "code",
      "source": [
        "try:\n",
        "  int(\"Hello\")\n",
        "except ValueError:\n",
        "  print(\"You cannot convert string to int\")\n",
        "  y = 2 + 3\n",
        "  print(y)"
      ],
      "metadata": {
        "colab": {
          "base_uri": "https://localhost:8080/"
        },
        "id": "6CKD5GruiDYV",
        "outputId": "53e77108-dab3-4a86-8089-318d1497ff6b"
      },
      "execution_count": 32,
      "outputs": [
        {
          "output_type": "stream",
          "name": "stdout",
          "text": [
            "You cannot convert string to int\n",
            "5\n"
          ]
        }
      ]
    }
  ]
}