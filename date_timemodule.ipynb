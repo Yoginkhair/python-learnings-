{
  "nbformat": 4,
  "nbformat_minor": 0,
  "metadata": {
    "colab": {
      "provenance": [],
      "authorship_tag": "ABX9TyMOvAT668bZnrCCFCkqZ2RE",
      "include_colab_link": true
    },
    "kernelspec": {
      "name": "python3",
      "display_name": "Python 3"
    },
    "language_info": {
      "name": "python"
    }
  },
  "cells": [
    {
      "cell_type": "markdown",
      "metadata": {
        "id": "view-in-github",
        "colab_type": "text"
      },
      "source": [
        "<a href=\"https://colab.research.google.com/github/Yoginkhair/python-learnings-/blob/main/date_timemodule.ipynb\" target=\"_parent\"><img src=\"https://colab.research.google.com/assets/colab-badge.svg\" alt=\"Open In Colab\"/></a>"
      ]
    },
    {
      "cell_type": "markdown",
      "source": [
        "# Python module - Date_time"
      ],
      "metadata": {
        "id": "B9sEcv0iInuM"
      }
    },
    {
      "cell_type": "code",
      "execution_count": 10,
      "metadata": {
        "colab": {
          "base_uri": "https://localhost:8080/"
        },
        "id": "_fNOUcouIksn",
        "outputId": "367ae3b1-9de2-4db3-c76b-a8e4d7c669ee"
      },
      "outputs": [
        {
          "output_type": "stream",
          "name": "stdout",
          "text": [
            "All inculde :  2024-11-09 13:46:20.555569\n",
            "Year seperatly :  2024\n",
            "Month seperatly :  11\n",
            "Day seperatly :  9\n",
            "Time seperatly :  <built-in method time of datetime.datetime object at 0x7eb4d0f8e730>\n"
          ]
        },
        {
          "output_type": "execute_result",
          "data": {
            "text/plain": [
              "datetime.time(18, 16, 23)"
            ]
          },
          "metadata": {},
          "execution_count": 10
        }
      ],
      "source": [
        "import datetime\n",
        "from datetime import datetime, date, time, timedelta\n",
        "\n",
        "curr_datetime = datetime.now()\n",
        "print(\"All inculde : \",curr_datetime)\n",
        "print(\"Year seperatly : \",curr_datetime.year)\n",
        "print(\"Month seperatly : \",curr_datetime.month)\n",
        "print(\"Day seperatly : \",curr_datetime.day)\n",
        "print(\"Time seperatly : \",curr_datetime.time)\n",
        "\n",
        "# year - month - date (convention)\n",
        "date(2024,11,9)\n",
        "# hours - min - secs (convention)\n",
        "time(18,16,23)"
      ]
    },
    {
      "cell_type": "code",
      "source": [
        "from datetime import timedelta\n",
        "\n",
        "timedelta(hours = 5)\n",
        "\n",
        "curr_datetime + timedelta(hours =5)"
      ],
      "metadata": {
        "colab": {
          "base_uri": "https://localhost:8080/"
        },
        "id": "9maogSFYh-Qv",
        "outputId": "4b209eda-aaae-4c09-edef-817ed972bd34"
      },
      "execution_count": 12,
      "outputs": [
        {
          "output_type": "execute_result",
          "data": {
            "text/plain": [
              "datetime.datetime(2024, 11, 9, 18, 46, 20, 555569)"
            ]
          },
          "metadata": {},
          "execution_count": 12
        }
      ]
    }
  ]
}