{
  "nbformat": 4,
  "nbformat_minor": 0,
  "metadata": {
    "colab": {
      "provenance": [],
      "authorship_tag": "ABX9TyNVO6cTeBFZJmSVTcXvlNDN",
      "include_colab_link": true
    },
    "kernelspec": {
      "name": "python3",
      "display_name": "Python 3"
    },
    "language_info": {
      "name": "python"
    }
  },
  "cells": [
    {
      "cell_type": "markdown",
      "metadata": {
        "id": "view-in-github",
        "colab_type": "text"
      },
      "source": [
        "<a href=\"https://colab.research.google.com/github/Yoginkhair/python-learnings-/blob/main/Day03.ipynb\" target=\"_parent\"><img src=\"https://colab.research.google.com/assets/colab-badge.svg\" alt=\"Open In Colab\"/></a>"
      ]
    },
    {
      "cell_type": "code",
      "execution_count": 5,
      "metadata": {
        "colab": {
          "base_uri": "https://localhost:8080/"
        },
        "id": "hAVJisjJd5vZ",
        "outputId": "d791ca53-36d2-4325-e70d-d2e4489ad7c6"
      },
      "outputs": [
        {
          "output_type": "stream",
          "name": "stdout",
          "text": [
            "You can buy a ticket\n"
          ]
        }
      ],
      "source": [
        "ticket_price = 90\n",
        "wallet_size = 100\n",
        "# ctrl + enter (run)\n",
        "# comparission <, >, <=, >=, ==, !=\n",
        "if ticket_price <= wallet_size:\n",
        "    print(\"You can buy a ticket\")\n",
        "else:\n",
        "    print(\"You cannot buy a ticket\")"
      ]
    },
    {
      "cell_type": "code",
      "source": [
        "# if (condition):\n",
        "\n",
        "#     print(\"condition is true\")\n",
        "# else:\n",
        "#     print(\"condition is false\")"
      ],
      "metadata": {
        "id": "s5pnUYEJi5kP"
      },
      "execution_count": 6,
      "outputs": []
    },
    {
      "cell_type": "code",
      "source": [
        "marks = 85\n",
        "if marks >= 90:\n",
        "    print(\"Grade A+\")\n",
        "elif (marks >= 80):\n",
        "    print(\"Grade A\")\n",
        "elif (marks >= 70):\n",
        "    print(\"Grade B\")\n",
        "elif (marks >= 60):\n",
        "    print(\"Grade C\")\n",
        "elif (marks >= 50):\n",
        "    print(\"Grade D\")\n",
        "else:\n",
        "    print(\"Grade F\")"
      ],
      "metadata": {
        "colab": {
          "base_uri": "https://localhost:8080/"
        },
        "id": "uaS-pps1i5hm",
        "outputId": "09f7c7be-10a9-42f7-a95b-93647735bd16"
      },
      "execution_count": 7,
      "outputs": [
        {
          "output_type": "stream",
          "name": "stdout",
          "text": [
            "Grade A\n"
          ]
        }
      ]
    },
    {
      "cell_type": "code",
      "source": [],
      "metadata": {
        "id": "pK2YgMpvi5fJ"
      },
      "execution_count": null,
      "outputs": []
    },
    {
      "cell_type": "code",
      "source": [],
      "metadata": {
        "id": "4_zVht8ci5ch"
      },
      "execution_count": null,
      "outputs": []
    },
    {
      "cell_type": "code",
      "source": [],
      "metadata": {
        "id": "P0zs5d8vi5Z5"
      },
      "execution_count": null,
      "outputs": []
    },
    {
      "cell_type": "code",
      "source": [],
      "metadata": {
        "id": "Blv1VfRIi5XH"
      },
      "execution_count": null,
      "outputs": []
    },
    {
      "cell_type": "code",
      "source": [],
      "metadata": {
        "id": "HFn6ueiMi5UN"
      },
      "execution_count": null,
      "outputs": []
    }
  ]
}