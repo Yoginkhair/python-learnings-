{
  "nbformat": 4,
  "nbformat_minor": 0,
  "metadata": {
    "colab": {
      "provenance": [],
      "authorship_tag": "ABX9TyM8Z+LArU5/Vsqr3z19TMtL",
      "include_colab_link": true
    },
    "kernelspec": {
      "name": "python3",
      "display_name": "Python 3"
    },
    "language_info": {
      "name": "python"
    }
  },
  "cells": [
    {
      "cell_type": "markdown",
      "metadata": {
        "id": "view-in-github",
        "colab_type": "text"
      },
      "source": [
        "<a href=\"https://colab.research.google.com/github/Yoginkhair/python-learnings-/blob/main/Day06.ipynb\" target=\"_parent\"><img src=\"https://colab.research.google.com/assets/colab-badge.svg\" alt=\"Open In Colab\"/></a>"
      ]
    },
    {
      "cell_type": "markdown",
      "source": [
        "# Functions - Basics\n",
        "- Function is nothing but something that you can use again and again when It's call"
      ],
      "metadata": {
        "id": "GIGKKJJgQx2S"
      }
    },
    {
      "cell_type": "code",
      "source": [
        "print(\"Hello World!\")"
      ],
      "metadata": {
        "colab": {
          "base_uri": "https://localhost:8080/"
        },
        "id": "miGS-M1dSbCd",
        "outputId": "909b3294-5753-49b2-c580-432bb87753d1"
      },
      "execution_count": null,
      "outputs": [
        {
          "output_type": "stream",
          "name": "stdout",
          "text": [
            "Hello World!\n"
          ]
        }
      ]
    },
    {
      "cell_type": "code",
      "execution_count": null,
      "metadata": {
        "colab": {
          "base_uri": "https://localhost:8080/"
        },
        "id": "n6bnBnRyQplL",
        "outputId": "00a4aa7b-0320-470a-c73a-b22853ab13be"
      },
      "outputs": [
        {
          "output_type": "stream",
          "name": "stdout",
          "text": [
            "Hello Yogin!\n"
          ]
        }
      ],
      "source": [
        "# Defining a function\n",
        "def hello(name):\n",
        "  print(f\"Hello {name}!\")\n",
        "\n",
        "# Calling a function\n",
        "hello(\"Yogin\")"
      ]
    },
    {
      "cell_type": "code",
      "source": [
        "capital = \"Delhi\"\n",
        "country = \"India\"\n",
        "print(f\"The capital of {country} is {capital}\")"
      ],
      "metadata": {
        "colab": {
          "base_uri": "https://localhost:8080/"
        },
        "id": "3b5a3eRtWcID",
        "outputId": "ee5fe6cb-7d47-4a78-d422-b2c50efe6111"
      },
      "execution_count": null,
      "outputs": [
        {
          "output_type": "stream",
          "name": "stdout",
          "text": [
            "The capital of India is Delhi\n"
          ]
        }
      ]
    },
    {
      "cell_type": "code",
      "source": [
        "# Function to add two numbers\n",
        "def add(a, b):\n",
        "  return(a + b)\n",
        "\n",
        "add(10, 20)"
      ],
      "metadata": {
        "colab": {
          "base_uri": "https://localhost:8080/"
        },
        "id": "UGBkQQ9uX9-p",
        "outputId": "84cca318-1edb-4eeb-a139-a59dbd639075"
      },
      "execution_count": null,
      "outputs": [
        {
          "output_type": "execute_result",
          "data": {
            "text/plain": [
              "30"
            ]
          },
          "metadata": {},
          "execution_count": 10
        }
      ]
    },
    {
      "cell_type": "code",
      "source": [
        "def hello (name):\n",
        "  print(f\"Hello {name}!\")\n",
        "\n",
        "hello(\"Yogin\")"
      ],
      "metadata": {
        "colab": {
          "base_uri": "https://localhost:8080/"
        },
        "id": "AAwiD52BF6XF",
        "outputId": "923c7df0-87e5-4a11-8cb5-53ebfd692f44"
      },
      "execution_count": 2,
      "outputs": [
        {
          "output_type": "stream",
          "name": "stdout",
          "text": [
            "Hello Yogin!\n"
          ]
        }
      ]
    },
    {
      "cell_type": "code",
      "source": [
        "def greet(name = \"Friend\"):\n",
        "  print(f\"Hello {name}!\")\n",
        "\n",
        "greet()"
      ],
      "metadata": {
        "colab": {
          "base_uri": "https://localhost:8080/"
        },
        "id": "kC_lVxAiGOfW",
        "outputId": "0bb94b65-356b-4725-e166-84e7152fd460"
      },
      "execution_count": 4,
      "outputs": [
        {
          "output_type": "stream",
          "name": "stdout",
          "text": [
            "Hello Friend!\n"
          ]
        }
      ]
    },
    {
      "cell_type": "code",
      "source": [
        "def greet2(name = \"Friend\"):\n",
        "  sum = \"Hello \" + name + \"!\"\n",
        "  return sum\n",
        "\n",
        "r = greet2(\"raju\")\n",
        "print(r)"
      ],
      "metadata": {
        "colab": {
          "base_uri": "https://localhost:8080/"
        },
        "id": "ZBYHTMzMGc-q",
        "outputId": "db57dc60-d6c7-443d-b2b3-3172c16795b5"
      },
      "execution_count": 15,
      "outputs": [
        {
          "output_type": "stream",
          "name": "stdout",
          "text": [
            "Hello raju!\n"
          ]
        }
      ]
    },
    {
      "cell_type": "markdown",
      "source": [
        "#keyword Arguments"
      ],
      "metadata": {
        "id": "HYgDPnrCJITK"
      }
    },
    {
      "cell_type": "code",
      "source": [
        "# two numbers = add them\n",
        "def add_numbers(x = 10, y = 20):\n",
        "  return(x + y)\n",
        "\n",
        "add_numbers()"
      ],
      "metadata": {
        "colab": {
          "base_uri": "https://localhost:8080/"
        },
        "id": "H4g1EzeHJHmR",
        "outputId": "d3bdd3b5-8f9c-4834-e12a-44b22e147bd5"
      },
      "execution_count": 16,
      "outputs": [
        {
          "output_type": "execute_result",
          "data": {
            "text/plain": [
              "30"
            ]
          },
          "metadata": {},
          "execution_count": 16
        }
      ]
    },
    {
      "cell_type": "markdown",
      "source": [
        "# Global variables"
      ],
      "metadata": {
        "id": "7mnvywE1NZ_5"
      }
    },
    {
      "cell_type": "code",
      "source": [
        "# Global var = defined outside the function\n",
        "\n",
        "x = 67\n",
        "\n",
        "def test(y):\n",
        "  global x\n",
        "  print(x,y)\n",
        "\n",
        "test(76)"
      ],
      "metadata": {
        "colab": {
          "base_uri": "https://localhost:8080/"
        },
        "id": "Fl6bCDO2NfHC",
        "outputId": "f267e2cb-525e-40e7-c842-b2c121cc20f9"
      },
      "execution_count": 32,
      "outputs": [
        {
          "output_type": "stream",
          "name": "stdout",
          "text": [
            "67 76\n"
          ]
        }
      ]
    },
    {
      "cell_type": "code",
      "source": [
        "n = 23\n",
        "def test(n):\n",
        "  n = 50\n",
        "  print(n)\n",
        "\n",
        "test(19)"
      ],
      "metadata": {
        "colab": {
          "base_uri": "https://localhost:8080/"
        },
        "id": "5v5wIlqpSAV2",
        "outputId": "4ac968f4-51c9-4deb-9554-a8e1f61fe808"
      },
      "execution_count": 37,
      "outputs": [
        {
          "output_type": "stream",
          "name": "stdout",
          "text": [
            "19\n"
          ]
        }
      ]
    },
    {
      "cell_type": "markdown",
      "source": [
        "#Function inside function (nested function)"
      ],
      "metadata": {
        "id": "Dbi_gSQYSWYk"
      }
    },
    {
      "cell_type": "code",
      "source": [
        "def hello(name):\n",
        "  print(\"Hello \" + name + \"!\")\n",
        "\n",
        "def fav (city, name):\n",
        "  hello(name)\n",
        "  print(f\"welcome to {city}!\")\n",
        "\n",
        "fav(\"Delhi\",\"Mariyam\")"
      ],
      "metadata": {
        "colab": {
          "base_uri": "https://localhost:8080/"
        },
        "id": "t88ySwhpSU6d",
        "outputId": "2c65ecff-92a5-43b1-a5ad-3a7af3ec36f6"
      },
      "execution_count": 41,
      "outputs": [
        {
          "output_type": "stream",
          "name": "stdout",
          "text": [
            "Hello Mariyam!\n",
            "welcome to Delhi!\n"
          ]
        }
      ]
    }
  ]
}